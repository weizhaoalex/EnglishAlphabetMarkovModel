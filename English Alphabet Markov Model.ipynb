{
 "cells": [
  {
   "cell_type": "markdown",
   "metadata": {},
   "source": [
    "# English Alphabet Markov Model\n",
    "English has 26 alphabet. The distribution of each alphabet that shows as an initial letter is not a uniform distribution. The probability of one alphabet is followed by another alphabet is different too. However, if you have couple text large enough, you will find the initial alphabet distribution and transition probability is quite stable.<br>\n",
    "<br>\n",
    "This article will help you to build an alphabet markov transition matrix from scratch. The text we use here for illustration are some free books downloaded from online. Free feel you use your own resources.<br>\n",
    "<br>\n",
    "Something maybe helpful but not necessary for this article:<br>\n",
    "- **Markov chain**: https://en.wikipedia.org/wiki/Markov_chain <br>\n",
    "- **Transition matrix**: https://en.wikipedia.org/wiki/Stochastic_matrix"
   ]
  },
  {
   "cell_type": "code",
   "execution_count": 1,
   "metadata": {},
   "outputs": [],
   "source": [
    "# import packages \n",
    "\n",
    "import numpy as np\n",
    "from collections import Counter \n",
    "import pandas as pd\n",
    "import string\n",
    "import matplotlib.pyplot as plt\n",
    "import seaborn as sns"
   ]
  },
  {
   "cell_type": "markdown",
   "metadata": {},
   "source": [
    "## Download books\n",
    "Books could be downloaded from Gutenberg project (linked below). Feel free to use any text you like!<br>\n",
    "https://www.gutenberg.org/<br>"
   ]
  },
  {
   "cell_type": "markdown",
   "metadata": {},
   "source": [
    "## Read books\n",
    "Define a function to read your books or any other text files."
   ]
  },
  {
   "cell_type": "code",
   "execution_count": 2,
   "metadata": {},
   "outputs": [],
   "source": [
    "def read_book(title_path):\n",
    "    \"\"\"\n",
    "    Read a book.\n",
    "    \"\"\"\n",
    "    with open(title_path,\"r\",encoding=\"utf8\") as current_file:\n",
    "        text = current_file.read()\n",
    "        text = text.replace(\"\\n\",\"\").replace(\"\\r\",\"\")\n",
    "    return text"
   ]
  },
  {
   "cell_type": "code",
   "execution_count": 3,
   "metadata": {},
   "outputs": [],
   "source": [
    "text1 = read_book(\"E:/Python/Books/A Tale of Two Cities.txt\")\n",
    "text2 = read_book(\"E:/Python/Books/The Adventure of Tom Sawyer.txt\")\n",
    "text3 = read_book(\"E:/Python/Books/The Adventures of Sherlock Holmes.txt\")\n",
    "text4 = read_book(\"E:/Python/Books/The Whale.txt\")\n",
    "text5 = read_book(\"E:/Python/Books/War and Peace.txt\")\n",
    "text6 = read_book(\"E:/Python/Books/Treasure Island.txt\")"
   ]
  },
  {
   "cell_type": "markdown",
   "metadata": {},
   "source": [
    "## Clean the data\n",
    "Since text is unstructured data, so we need to do some preparation work such as clean the data, remove punctuations, and then we can get a structured word frequency dataframe for further analysis."
   ]
  },
  {
   "cell_type": "code",
   "execution_count": 4,
   "metadata": {},
   "outputs": [
    {
     "data": {
      "text/html": [
       "<div>\n",
       "<style scoped>\n",
       "    .dataframe tbody tr th:only-of-type {\n",
       "        vertical-align: middle;\n",
       "    }\n",
       "\n",
       "    .dataframe tbody tr th {\n",
       "        vertical-align: top;\n",
       "    }\n",
       "\n",
       "    .dataframe thead th {\n",
       "        text-align: right;\n",
       "    }\n",
       "</style>\n",
       "<table border=\"1\" class=\"dataframe\">\n",
       "  <thead>\n",
       "    <tr style=\"text-align: right;\">\n",
       "      <th></th>\n",
       "      <th>word</th>\n",
       "      <th>count</th>\n",
       "    </tr>\n",
       "  </thead>\n",
       "  <tbody>\n",
       "    <tr>\n",
       "      <th>3</th>\n",
       "      <td>the</td>\n",
       "      <td>4885</td>\n",
       "    </tr>\n",
       "    <tr>\n",
       "      <th>65</th>\n",
       "      <td>i</td>\n",
       "      <td>2802</td>\n",
       "    </tr>\n",
       "    <tr>\n",
       "      <th>21</th>\n",
       "      <td>and</td>\n",
       "      <td>2758</td>\n",
       "    </tr>\n",
       "    <tr>\n",
       "      <th>109</th>\n",
       "      <td>to</td>\n",
       "      <td>2503</td>\n",
       "    </tr>\n",
       "    <tr>\n",
       "      <th>5</th>\n",
       "      <td>of</td>\n",
       "      <td>2446</td>\n",
       "    </tr>\n",
       "  </tbody>\n",
       "</table>\n",
       "</div>"
      ],
      "text/plain": [
       "    word  count\n",
       "3    the   4885\n",
       "65     i   2802\n",
       "21   and   2758\n",
       "109   to   2503\n",
       "5     of   2446"
      ]
     },
     "execution_count": 4,
     "metadata": {},
     "output_type": "execute_result"
    }
   ],
   "source": [
    "# Choose a book to save into a string variable for further analysis, and convert all characters into lower case. \n",
    "# You can concatenate multiple books together to get a larger data set.\n",
    "text = text3.lower()\n",
    "\n",
    "# create a list contains the major punctuations that we want to skip\n",
    "skips = [\".\",\":\",\";\",\"'\",\",\",'\"',\"!\",\"?\",\"”\",\"“\",\"_\",\"(\",\")\",\"-\",\"’\",\"  \"]\n",
    "\n",
    "for ch in skips:\n",
    "    text = text.replace(ch,\" \")\n",
    "\n",
    "# Create a dataframe of the word frequency in that book, and sort it    \n",
    "\n",
    "word_count = Counter(text.split(\" \"))\n",
    "\n",
    "text_stat = pd.DataFrame({\"word\":list(word_count.keys()),\n",
    "                           \"count\":list(word_count.values())})\n",
    "\n",
    "text_stat = text_stat[text_stat.word != \"\"]\n",
    "\n",
    "text_stat = text_stat.sort_values(by=['count'], ascending = False)\n",
    "\n",
    "# Show the top frequency words\n",
    "text_stat.head()"
   ]
  },
  {
   "cell_type": "markdown",
   "metadata": {},
   "source": [
    "You should expect to see words like 'the', 'and', 'of' have the highest frequency. For different analysis purposes, you could choose to keep them or remove them. "
   ]
  },
  {
   "cell_type": "markdown",
   "metadata": {},
   "source": [
    "## Calculate initial letter distribution and transition matrix\n",
    "Next step is to use the word frequency dataframe to calculate the alphabet initial distribution and transition matrix. We will first calculate transition frequency matrix and initial frequncy vector, then convert them to a probability matrix and distribution vector. <br>\n",
    "<br>\n",
    "The logic is very simple: for example if word 'the' shows 1000 times in the text, for this single word, **t** -> **h** 1000 times, **h** -> **e** 1000 times, we will add 1000 to the corresponding cells in the frequency matrix. Then go to next word and repeat the step above, until we go through all words in the word frequency dataframe."
   ]
  },
  {
   "cell_type": "code",
   "execution_count": 5,
   "metadata": {},
   "outputs": [],
   "source": [
    "# Create a string with all lower case alphabet\n",
    "alp = string.ascii_lowercase\n",
    "\n",
    "# Initialize a 26*26 transition matrix\n",
    "s=(26,26)\n",
    "matrix = pd.DataFrame(np.zeros(s))\n",
    "\n",
    "# Initialize a 26*1 initial letter vector\n",
    "t=(26)\n",
    "Initial = pd.DataFrame(np.zeros(t))\n",
    "\n",
    "# Loop over the word frequency data frame to calculate the initial vector and transition matrix\n",
    "# It may take a few sec depends on the size of the dataframe\n",
    "# we will use alp to convert each character into an index: a - 0, b - 1, ..., z - 25\n",
    "for i in range(len(text_stat.iloc[:,0])):\n",
    "    word = text_stat.iloc[i,0]\n",
    "    if len(str(word))>1:\n",
    "        pos_i = alp.find(word[0])\n",
    "        Initial.iloc[pos_i] += text_stat.iloc[i,1]\n",
    "    for j in range(len(word)-1):\n",
    "        pos1 = alp.find(word[j])\n",
    "        pos2 = alp.find(word[j+1])\n",
    "        matrix.iloc[pos1,pos2]+=text_stat.iloc[i,1]"
   ]
  },
  {
   "cell_type": "markdown",
   "metadata": {},
   "source": [
    "## Some simple visualizations"
   ]
  },
  {
   "cell_type": "code",
   "execution_count": 6,
   "metadata": {},
   "outputs": [
    {
     "data": {
      "text/plain": [
       "<matplotlib.axes._subplots.AxesSubplot at 0x19e172e8>"
      ]
     },
     "execution_count": 6,
     "metadata": {},
     "output_type": "execute_result"
    },
    {
     "data": {
      "image/png": "[encoded data removed]",
      "text/plain": [
       "<Figure size 432x288 with 1 Axes>"
      ]
     },
     "metadata": {
      "needs_background": "light"
     },
     "output_type": "display_data"
    }
   ],
   "source": [
    "Initial_dist = Initial.div(Initial.sum(axis=0),axis=1)\n",
    "Initial_dist.columns = ['Prob']\n",
    "\n",
    "Alphabet = ['a','b','c','d','e','f','g','h','i','j','k','l','m','n','o','p','q','r','s','t','u','v','w','x','y','z']\n",
    "Initial_dist['Alphabet'] = Alphabet\n",
    "\n",
    "Initial_dist.plot.bar(x='Alphabet', y='Prob')"
   ]
  },
  {
   "cell_type": "markdown",
   "metadata": {},
   "source": [
    "Letter **t** has high probability to be the initial letter due to word 'the'."
   ]
  },
  {
   "cell_type": "code",
   "execution_count": 7,
   "metadata": {},
   "outputs": [
    {
     "data": {
      "image/png": "[encoded data removed]",
      "text/plain": [
       "<Figure size 432x288 with 1 Axes>"
      ]
     },
     "metadata": {
      "needs_background": "light"
     },
     "output_type": "display_data"
    }
   ],
   "source": [
    "index = ['a','b','c','d','e','f','g','h','i','j','k','l','m','n','o','p','q','r','s','t','u','v','w','x','y','z']\n",
    "colname = ['a','b','c','d','e','f','g','h','i','j','k','l','m','n','o','p','q','r','s','t','u','v','w','x','y','z']\n",
    "\n",
    "tran_matrix = matrix.div(matrix.sum(axis=1),axis=0)\n",
    "tran_matrix.columns = colname\n",
    "tran_matrix['Index'] = index\n",
    "tran_matrix = tran_matrix.set_index('Index')\n",
    "\n",
    "# For illustration purpose, we need to trim the probability\n",
    "tran_matrix2 = tran_matrix.clip(0,0.5)\n",
    "\n",
    "plt.pcolor(tran_matrix2)\n",
    "plt.yticks(np.arange(0.5, len(tran_matrix2.index), 1), tran_matrix2.index)\n",
    "plt.xticks(np.arange(0.5, len(tran_matrix2.columns), 1), tran_matrix2.columns)\n",
    "plt.show()"
   ]
  },
  {
   "cell_type": "markdown",
   "metadata": {},
   "source": [
    "Heatmap with Seaborn."
   ]
  },
  {
   "cell_type": "code",
   "execution_count": 8,
   "metadata": {},
   "outputs": [
    {
     "data": {
      "image/png": "[encoded data removed]",
      "text/plain": [
       "<Figure size 864x576 with 2 Axes>"
      ]
     },
     "metadata": {
      "needs_background": "light"
     },
     "output_type": "display_data"
    }
   ],
   "source": [
    "plt.figure(figsize=(12,8))\n",
    "hmap = sns.heatmap(tran_matrix2,cmap=\"coolwarm\",xticklabels=index, yticklabels=index, cbar = True)\n",
    "hmap.set(ylabel='letters', xlabel='letters')\n",
    "plt.show()"
   ]
  },
  {
   "cell_type": "markdown",
   "metadata": {},
   "source": [
    "Some insights:\n",
    "- If you sum up by columns, the highest value will be column 'e', indicates many alphabets are followed by 'e'. The other high frequency letters are 'a', 'i', 'o', 'u', which are vowel letters. Isn't it obvious?\n",
    "- In column 'e', the highest probabilty comes from row 'v', the reason is **VERY** obvious. \n",
    "- On the other hand, the probability to transit to letters like 'j', 'q' is low.\n",
    "- For most of times, q is followed by u, I guess it's due to high frequency words like 'quite', 'quick', 'quiet'.\n",
    "- 'z' has the highest self transition probability\n",
    "- 't' is usually followed by 'h', due to words like 'the', 'that', 'there'...\n",
    "- ..."
   ]
  },
  {
   "cell_type": "markdown",
   "metadata": {},
   "source": [
    "## Something more...\n",
    "Here shows a very simple way to encode your message."
   ]
  },
  {
   "cell_type": "code",
   "execution_count": 9,
   "metadata": {},
   "outputs": [],
   "source": [
    "# Set the seed for random index\n",
    "np.random.seed(211)\n",
    "ind = np.random.choice(26,26,replace=False)\n",
    "\n",
    "#Create a dictionary for the cypher\n",
    "alp2 = list(alp)\n",
    "new_alp = [None]*26\n",
    "for i in range(len(alp)):\n",
    "    new_alp[i] = alp[ind[i]]\n",
    "    \n",
    "dictionary = dict(zip(alp2,new_alp))"
   ]
  },
  {
   "cell_type": "code",
   "execution_count": 10,
   "metadata": {},
   "outputs": [
    {
     "data": {
      "text/plain": [
       "{'a': 'i',\n",
       " 'b': 'x',\n",
       " 'c': 'w',\n",
       " 'd': 'f',\n",
       " 'e': 'u',\n",
       " 'f': 'v',\n",
       " 'g': 'b',\n",
       " 'h': 'n',\n",
       " 'i': 'a',\n",
       " 'j': 's',\n",
       " 'k': 'p',\n",
       " 'l': 't',\n",
       " 'm': 'd',\n",
       " 'n': 'c',\n",
       " 'o': 'r',\n",
       " 'p': 'h',\n",
       " 'q': 'o',\n",
       " 'r': 'j',\n",
       " 's': 'm',\n",
       " 't': 'q',\n",
       " 'u': 'l',\n",
       " 'v': 'k',\n",
       " 'w': 'e',\n",
       " 'x': 'y',\n",
       " 'y': 'z',\n",
       " 'z': 'g'}"
      ]
     },
     "execution_count": 10,
     "metadata": {},
     "output_type": "execute_result"
    }
   ],
   "source": [
    "# Encode dictionary\n",
    "dictionary"
   ]
  },
  {
   "cell_type": "code",
   "execution_count": 11,
   "metadata": {},
   "outputs": [
    {
     "data": {
      "text/plain": [
       "'mrdu quyq zrlj eicq qr ucwrfu'"
      ]
     },
     "execution_count": 11,
     "metadata": {},
     "output_type": "execute_result"
    }
   ],
   "source": [
    "test_text = 'some text your want to encode'\n",
    "\n",
    "# Initialize the encoded text \n",
    "translated_text =\"\"\n",
    "\n",
    "for s in test_text:\n",
    "    if s in dictionary:\n",
    "        translated_text +=dictionary[s]\n",
    "    else:\n",
    "        translated_text +=s\n",
    "\n",
    "#Print encoded text\n",
    "translated_text"
   ]
  },
  {
   "cell_type": "markdown",
   "metadata": {},
   "source": [
    "This kind of cypher is simple and easy to crack. If the encoded text is long enough, we could simply use the word frequency dataframe, initial character distribution, and character transition matrix to decipher it.\n",
    "- For example, use the initial distribution to find t, some other high frequency letters could be a, h, s, w...\n",
    "- Use transition matrix you can find a, e, i, o, u easily\n",
    "- If you are familiar with alphabet transition matrix, it's not hard to target z, q, j, x ... you are half way done!"
   ]
  },
  {
   "cell_type": "markdown",
   "metadata": {},
   "source": [
    "## Markov model in real business world\n",
    "Markov model and stochastic process have been used widely in many fields in real business world.<br>\n",
    "<br>\n",
    "For example, I used to apply the markov transition matrix to analyze the company homepage traffic data. It can help you identify how people transit from one page to another, if there are some pages have potential issues to convert a viewer into a user in couple steps. This information can help you to re-design and optimize the homepage."
   ]
  }
 ],
 "metadata": {
  "kernelspec": {
   "display_name": "Python 3",
   "language": "python",
   "name": "python3"
  },
  "language_info": {
   "codemirror_mode": {
    "name": "ipython",
    "version": 3
   },
   "file_extension": ".py",
   "mimetype": "text/x-python",
   "name": "python",
   "nbconvert_exporter": "python",
   "pygments_lexer": "ipython3",
   "version": "3.6.9"
  }
 },
 "nbformat": 4,
 "nbformat_minor": 2
}
